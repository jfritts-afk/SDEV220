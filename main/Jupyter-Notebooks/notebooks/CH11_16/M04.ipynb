{
 "cells": [
  {
   "cell_type": "code",
   "execution_count": 2,
   "id": "dde34f7f-5ae5-4a73-aeb1-72f1c067b258",
   "metadata": {},
   "outputs": [],
   "source": [
    "#11.1\n",
    "\n",
    "# zoo.py\n",
    "\n",
    "def hours():\n",
    "    print('Open 9-5 daily')\n",
    " "
   ]
  },
  {
   "cell_type": "code",
   "execution_count": null,
   "id": "faa6a596-a592-4ecd-943d-3f0c41820223",
   "metadata": {},
   "outputs": [],
   "source": [
    "#11.2\n",
    "\n",
    "import zoo  # Import the zoo module as zoo\n",
    "import zoo as menagerie  # Import the zoo module as menagerie\n",
    "\n",
    "# Call the hours() function using both module names\n",
    "zoo.hours()\n",
    "menagerie.hours()\n",
    " "
   ]
  },
  {
   "cell_type": "code",
   "execution_count": 3,
   "id": "5474ec2f-5b95-4691-aec0-61e08d2490c4",
   "metadata": {},
   "outputs": [],
   "source": [
    "#16.2\n",
    "\n",
    "import sqlalchemy\n",
    "from sqlalchemy import create_engine, select, text\n",
    "from sqlalchemy.orm import sessionmaker\n",
    "\n",
    "# Define the database connection URL (SQLite in this case)\n",
    "db_url = \"sqlite:///books.db\"\n",
    "\n",
    "# Create an SQLAlchemy engine\n",
    "engine = create_engine(db_url)\n",
    "\n",
    "# Create a session\n",
    "Session = sessionmaker(bind=engine)\n",
    "session = Session()\n",
    "\n",
    "# Define the book table\n",
    "metadata = sqlalchemy.MetaData()\n",
    "book_table = sqlalchemy.Table('book', metadata, autoload=True, autoload_with=engine)\n",
    "\n",
    "# Build a query to select and order titles alphabetically\n",
    "query = select([book_table.c.title]).order_by(text('title'))\n",
    "\n",
    "# Execute the query and fetch the results\n",
    "results = session.execute(query)\n",
    "\n",
    "# Print the titles in alphabetical order\n",
    "for row in results:\n",
    "    print(row.title)\n"
   ]
  }
 ],
 "metadata": {
  "kernelspec": {
   "display_name": "Python 3 (ipykernel)",
   "language": "python",
   "name": "python3"
  },
  "language_info": {
   "codemirror_mode": {
    "name": "ipython",
    "version": 3
   },
   "file_extension": ".py",
   "mimetype": "text/x-python",
   "name": "python",
   "nbconvert_exporter": "python",
   "pygments_lexer": "ipython3",
   "version": "3.11.4"
  }
 },
 "nbformat": 4,
 "nbformat_minor": 5
}
