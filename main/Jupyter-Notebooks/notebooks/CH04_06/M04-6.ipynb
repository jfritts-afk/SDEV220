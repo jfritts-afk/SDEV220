{
 "cells": [
  {
   "cell_type": "code",
   "execution_count": 4,
   "id": "bf07b0e7-7081-4f5d-92ff-09a4fe2854a8",
   "metadata": {},
   "outputs": [
    {
     "name": "stdout",
     "output_type": "stream",
     "text": [
      "Too low\n"
     ]
    }
   ],
   "source": [
    "#4.1 Choose a number between 1 and 10 and assign it to the variable secret. \n",
    "#Then, select another number between 1 and 10 and assign it to the variable guess. \n",
    "#Next, write the conditional tests (if, else, and elif) to print the string 'too low' if guess is less than secret, 'too high' if greater than secret, \n",
    "#and 'just right' if equal to secret.\n",
    "\n",
    "# Assign a secret number between 1 and 10\n",
    "secret = 7\n",
    "\n",
    "# Assign a guessed number between 1 and 10\n",
    "guess = 5\n",
    "\n",
    "# Check if the guess is too low, too high, or just right\n",
    "if guess < secret:\n",
    "    print(\"Too low\")\n",
    "elif guess > secret:\n",
    "    print(\"Too high\")\n",
    "else:\n",
    "    print(\"Just right\")\n"
   ]
  },
  {
   "cell_type": "code",
   "execution_count": 6,
   "id": "d1699430-308e-4905-af93-8a347e7215f9",
   "metadata": {},
   "outputs": [
    {
     "name": "stdout",
     "output_type": "stream",
     "text": [
      "This matches: cherry\n"
     ]
    }
   ],
   "source": [
    "#4.2 Assign True or False to the variables small and green. Write some if/else statements to print which of these matches those choices: cherry, pea, \n",
    "#watermelon, pumpkin.\n",
    "\n",
    "# Assign True or False to the variables\n",
    "small = True\n",
    "green = False\n",
    "\n",
    "# Check which choices match the values of small and green\n",
    "if small and green:\n",
    "    print(\"This matches: pea\")\n",
    "elif small and not green:\n",
    "    print(\"This matches: cherry\")\n",
    "elif not small and green:\n",
    "    print(\"This matches: watermelon\")\n",
    "else:\n",
    "    print(\"This matches: pumpkin\")\n"
   ]
  },
  {
   "cell_type": "code",
   "execution_count": 10,
   "id": "22cc5c98-dd70-4a9d-a02b-538bf5d99e44",
   "metadata": {},
   "outputs": [
    {
     "name": "stdout",
     "output_type": "stream",
     "text": [
      "3\n",
      "2\n",
      "1\n",
      "0\n"
     ]
    }
   ],
   "source": [
    "#6.1 Use a for loop to print the values of the list [3, 2, 1, 0]\n",
    "\n",
    "my_list = [3, 2, 1, 0]\n",
    "\n",
    "for value in my_list:\n",
    "    print(value)\n"
   ]
  },
  {
   "cell_type": "code",
   "execution_count": 11,
   "id": "fbd43186-9808-4489-92d2-a83c53f9e58d",
   "metadata": {},
   "outputs": [
    {
     "name": "stdout",
     "output_type": "stream",
     "text": [
      "too low\n",
      "too low\n",
      "too low\n",
      "too low\n",
      "too low\n",
      "too low\n",
      "found it!\n"
     ]
    }
   ],
   "source": [
    "#6.2 Assign the value 7 to the variable guess_me, and the value 1 to the variable number. Write a while loop that compares number with guess_me. \n",
    "#Print 'too low' if number is less than guess me. If number equals guess_me, print 'found it!' and then exit the loop. If number is greater than \n",
    "#guess_me, print 'oops' and then exit the loop. Increment number at the end of the loop.\n",
    "\n",
    "# Assign values to the variables\n",
    "guess_me = 7\n",
    "number = 1\n",
    "\n",
    "# Use a while loop to compare number with guess_me\n",
    "while number <= guess_me:\n",
    "    if number < guess_me:\n",
    "        print('too low')\n",
    "    elif number == guess_me:\n",
    "        print('found it!')\n",
    "        break  # Exit the loop when the number is found\n",
    "    else:\n",
    "        print('oops')\n",
    "        break  # Exit the loop when the number is greater than guess_me\n",
    "    \n",
    "    number += 1  # Increment number at the end of each iteration"
   ]
  },
  {
   "cell_type": "code",
   "execution_count": 12,
   "id": "273333e7-7ca6-4b95-a627-d14e185e1f71",
   "metadata": {},
   "outputs": [
    {
     "name": "stdout",
     "output_type": "stream",
     "text": [
      "too low\n",
      "too low\n",
      "too low\n",
      "too low\n",
      "too low\n",
      "found it!\n"
     ]
    }
   ],
   "source": [
    "#6.3 Assign the value 5 to the variable guess_me. Use a for loop to iterate a variable called number over range(10). If number is less than guess_me, \n",
    "#print 'too low'. If it equals guess_me, print found it! and then break out of the for loop. If number is greater than guess_me, print 'oops' and then \n",
    "#exit the loop.\n",
    "\n",
    "# Assign the value 5 to the variable guess_me\n",
    "guess_me = 5\n",
    "\n",
    "# Use a for loop to iterate over the range of numbers\n",
    "for number in range(10):\n",
    "    if number < guess_me:\n",
    "        print('too low')\n",
    "    elif number == guess_me:\n",
    "        print('found it!')\n",
    "        break  # Exit the loop when the number is found\n",
    "    else:\n",
    "        print('oops')\n",
    "        break  # Exit the loop when the number is greater than guess_me\n"
   ]
  }
 ],
 "metadata": {
  "kernelspec": {
   "display_name": "Python 3 (ipykernel)",
   "language": "python",
   "name": "python3"
  },
  "language_info": {
   "codemirror_mode": {
    "name": "ipython",
    "version": 3
   },
   "file_extension": ".py",
   "mimetype": "text/x-python",
   "name": "python",
   "nbconvert_exporter": "python",
   "pygments_lexer": "ipython3",
   "version": "3.11.4"
  }
 },
 "nbformat": 4,
 "nbformat_minor": 5
}
