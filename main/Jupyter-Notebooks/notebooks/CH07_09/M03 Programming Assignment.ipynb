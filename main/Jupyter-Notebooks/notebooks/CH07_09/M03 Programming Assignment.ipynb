{
 "cells": [
  {
   "cell_type": "code",
   "execution_count": null,
   "id": "c58e4e4d-e121-4fcf-9dc0-ced000778db1",
   "metadata": {},
   "outputs": [],
   "source": [
    "#7.1 Create a list called years_list, starting with the year of your birth, and each year thereafter \n",
    "#until the year of your fifth birthday. For example, if you were born in 1980, the list would be years_list = \n",
    "#[1980, 1981, 1982, 1983, 1984, 1985]. \n",
    "\n",
    "years_list = [1994, 1995, 1996, 1997, 1998, 1999]\n"
   ]
  },
  {
   "cell_type": "code",
   "execution_count": null,
   "id": "84628082-53c5-4235-919c-b95f4426e3aa",
   "metadata": {},
   "outputs": [],
   "source": [
    "#7.2 In which year in years_list was your third birthday? Remember, you were 0 years of age for your first year.\n",
    "\n",
    "#This would the third element, 1997"
   ]
  },
  {
   "cell_type": "code",
   "execution_count": 1,
   "id": "e905462b-7957-4477-9acc-61283a8873c4",
   "metadata": {},
   "outputs": [],
   "source": [
    "#7.3 In which year in years_list were you the oldest?\n",
    "\n",
    "# I was the oldest in the year 1999, which is the last element of the years_list."
   ]
  },
  {
   "cell_type": "code",
   "execution_count": 3,
   "id": "db6eb60e-815c-42a0-9fd2-7ae7a65bc270",
   "metadata": {},
   "outputs": [],
   "source": [
    "#7.4 Make a list called things with these three strings as elements: \"mozzarella\", \"cinderella\", \"salmonella\".\n",
    "\n",
    "things = [\"mozzarella\", \"cinderella\", \"salmonella\"]\n"
   ]
  },
  {
   "cell_type": "code",
   "execution_count": 7,
   "id": "6bdac013-8945-45cb-bb17-d9db6afa3aab",
   "metadata": {},
   "outputs": [
    {
     "name": "stdout",
     "output_type": "stream",
     "text": [
      "['mozzarella', 'Cinderella', 'salmonella']\n",
      " it changed the element in the list.\n"
     ]
    }
   ],
   "source": [
    "#7.5 Capitalize the element in things that refers to a person and then print the list. \n",
    "#Did it change the element in the list?\n",
    "\n",
    "things = [\"mozzarella\", \"cinderella\", \"salmonella\"]\n",
    "\n",
    "# Capitalize the element referring to a person (\"cinderella\") and update the list\n",
    "things[1] = things[1].capitalize()\n",
    "\n",
    "# Print the modified list\n",
    "print(things)\n",
    "print(\" it changed the element in the list.\")"
   ]
  },
  {
   "cell_type": "code",
   "execution_count": 8,
   "id": "19c17420-8a3f-4421-9042-f70a4dc95d6a",
   "metadata": {},
   "outputs": [
    {
     "name": "stdout",
     "output_type": "stream",
     "text": [
      "['MOZZARELLA', 'Cinderella', 'salmonella']\n"
     ]
    }
   ],
   "source": [
    "#7.6 Make the cheesy element of things all uppercase and then print the list.\n",
    "\n",
    "things = [\"mozzarella\", \"cinderella\", \"salmonella\"]\n",
    "\n",
    "# Make the cheesy element (the first element) all uppercase\n",
    "things[0] = things[0].upper()\n",
    "\n",
    "# Capitalize the element referring to a person (\"Cinderella\")\n",
    "things[1] = things[1].capitalize()\n",
    "\n",
    "# Print the modified list\n",
    "print(things)\n"
   ]
  },
  {
   "cell_type": "code",
   "execution_count": 10,
   "id": "7167353a-67c5-46cd-8844-791810964294",
   "metadata": {},
   "outputs": [
    {
     "name": "stdout",
     "output_type": "stream",
     "text": [
      "['MOZZARELLA', 'Cinderella']\n"
     ]
    }
   ],
   "source": [
    "#7.7 Delete the disease element from things, collect your Nobel Prize, and print the list.\n",
    "\n",
    "things = [\"mozzarella\", \"cinderella\", \"salmonella\"]\n",
    "\n",
    "# Make the cheesy element (the first element) all uppercase\n",
    "things[0] = things[0].upper()\n",
    "\n",
    "# Capitalize the element referring to a person (\"Cinderella\")\n",
    "things[1] = things[1].capitalize()\n",
    "\n",
    "# Remove the disease element from the list\n",
    "things.remove(\"salmonella\")\n",
    "\n",
    "\n",
    "# Print the modified list\n",
    "print(things)"
   ]
  },
  {
   "cell_type": "code",
   "execution_count": 12,
   "id": "04a5f3e8-1b4b-46af-ae1c-1505a8c8dd51",
   "metadata": {},
   "outputs": [
    {
     "name": "stdout",
     "output_type": "stream",
     "text": [
      "['Harry', 'Ron', 'Hermione']\n"
     ]
    }
   ],
   "source": [
    "#9.1 Define a function called good() that returns the following list: ['Harry', 'Ron', 'Hermione'].\n",
    "\n",
    "def good():\n",
    "    return ['Harry', 'Ron', 'Hermione']\n",
    "\n",
    "# Call the function to get the list\n",
    "result = good()\n",
    "\n",
    "# Print the result\n",
    "print(result)\n"
   ]
  },
  {
   "cell_type": "code",
   "execution_count": 13,
   "id": "0ecc775d-5d7b-4893-a90a-627233a3e0fc",
   "metadata": {},
   "outputs": [
    {
     "name": "stdout",
     "output_type": "stream",
     "text": [
      "The third odd number is: 5\n"
     ]
    }
   ],
   "source": [
    "#9.2 Define a generator function called get_odds() that returns the odd numbers from range(10). \n",
    "#Use a for loop to find and print the third value returned.\n",
    "\n",
    "def get_odds():\n",
    "    for number in range(10):\n",
    "        if number % 2 != 0:  # Check if the number is odd\n",
    "            yield number\n",
    "\n",
    "# Use a for loop to find and print the third odd value returned\n",
    "count = 0\n",
    "for odd_number in get_odds():\n",
    "    count += 1\n",
    "    if count == 3:\n",
    "        print(\"The third odd number is:\", odd_number)\n",
    "        break\n"
   ]
  },
  {
   "cell_type": "code",
   "execution_count": null,
   "id": "1023a17f-00ef-475e-96c0-9d322c7a362b",
   "metadata": {},
   "outputs": [],
   "source": []
  }
 ],
 "metadata": {
  "kernelspec": {
   "display_name": "Python 3 (ipykernel)",
   "language": "python",
   "name": "python3"
  },
  "language_info": {
   "codemirror_mode": {
    "name": "ipython",
    "version": 3
   },
   "file_extension": ".py",
   "mimetype": "text/x-python",
   "name": "python",
   "nbconvert_exporter": "python",
   "pygments_lexer": "ipython3",
   "version": "3.11.4"
  }
 },
 "nbformat": 4,
 "nbformat_minor": 5
}
