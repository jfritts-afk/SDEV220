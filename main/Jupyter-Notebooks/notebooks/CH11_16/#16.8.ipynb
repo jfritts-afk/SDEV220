{
 "cells": [
  {
   "cell_type": "code",
   "execution_count": 1,
   "id": "32e990b8-3820-4008-99c1-a709b7fd0edc",
   "metadata": {},
   "outputs": [
    {
     "name": "stdout",
     "output_type": "stream",
     "text": [
      "{'author': 'J R R Tolkien', 'book': 'The Hobbit'}\n",
      "{'author': 'Lynne Truss', 'book': 'Eats, Shoots & Leaves'}\n"
     ]
    }
   ],
   "source": [
    "#books py code \n",
    "import csv\n",
    "\n",
    "# Open the CSV file for reading\n",
    "with open('books.csv', mode='r', newline='') as file:\n",
    "    # Create a CSV DictReader object\n",
    "    csv_reader = csv.DictReader(file)\n",
    "    \n",
    "    # Iterate through the rows in the CSV file\n",
    "    for row in csv_reader:\n",
    "        # Print the values in each row\n",
    "        print(row)\n",
    "\n",
    "# The quotes and commas in the second book's title should be handled correctly by DictReader\n"
   ]
  },
  {
   "cell_type": "code",
   "execution_count": 2,
   "id": "25b0285a-2ed9-4439-b8d4-3c15999391de",
   "metadata": {},
   "outputs": [],
   "source": [
    "import sqlite3\n",
    "\n",
    "# Connect to the SQLite database (or create it if it doesn't exist)\n",
    "connection = sqlite3.connect('books.db')\n",
    "\n",
    "# Create a cursor object to execute SQL commands\n",
    "cursor = connection.cursor()\n",
    "\n",
    "# Define the SQL command to create the 'books' table\n",
    "create_table_query = '''\n",
    "CREATE TABLE IF NOT EXISTS books (\n",
    "    title TEXT,\n",
    "    author TEXT,\n",
    "    year INTEGER\n",
    ")\n",
    "'''\n",
    "\n",
    "# Execute the SQL command to create the table\n",
    "cursor.execute(create_table_query)\n",
    "\n",
    "# Commit the changes and close the database connection\n",
    "connection.commit()\n",
    "connection.close()\n",
    "\n",
    "# The 'books.db' database with the 'books' table has been created\n"
   ]
  },
  {
   "cell_type": "code",
   "execution_count": 3,
   "id": "c2172433-b1b6-4739-a4b2-77e3fd7cffe3",
   "metadata": {},
   "outputs": [],
   "source": [
    "import sqlite3\n",
    "import csv\n",
    "\n",
    "# Connect to the SQLite database\n",
    "connection = sqlite3.connect('books.db')\n",
    "cursor = connection.cursor()\n",
    "\n",
    "# Open the CSV file for reading\n",
    "with open('books2.csv', mode='r', newline='') as file:\n",
    "    # Create a CSV DictReader object\n",
    "    csv_reader = csv.DictReader(file)\n",
    "    \n",
    "    # Iterate through the rows in the CSV file\n",
    "    for row in csv_reader:\n",
    "        # Extract values from the CSV row\n",
    "        title = row['title']\n",
    "        author = row['author']\n",
    "        year = int(row['year'])\n",
    "        \n",
    "        # Insert the data into the 'books' table\n",
    "        cursor.execute(\"INSERT INTO books (title, author, year) VALUES (?, ?, ?)\", (title, author, year))\n",
    "\n",
    "# Commit the changes and close the database connection\n",
    "connection.commit()\n",
    "connection.close()\n",
    "\n",
    "# Data from 'books2.csv' has been inserted into the 'books' table\n"
   ]
  },
  {
   "cell_type": "code",
   "execution_count": 4,
   "id": "b3a1c56c-b2c0-4b08-bd3b-3cc1cfb5050b",
   "metadata": {},
   "outputs": [
    {
     "name": "stdout",
     "output_type": "stream",
     "text": [
      "Perdido Street Station\n",
      "Small Gods\n",
      "The Spellman Files\n",
      "The Weirdstone of Brisingamen\n",
      "Thud!\n"
     ]
    }
   ],
   "source": [
    "import sqlite3\n",
    "\n",
    "# Connect to the SQLite database\n",
    "connection = sqlite3.connect('books.db')\n",
    "cursor = connection.cursor()\n",
    "\n",
    "# Select the 'title' column from the 'books' table in alphabetical order\n",
    "cursor.execute(\"SELECT title FROM books ORDER BY title ASC\")\n",
    "\n",
    "# Fetch all rows of the result\n",
    "rows = cursor.fetchall()\n",
    "\n",
    "# Print the 'title' values in alphabetical order\n",
    "for row in rows:\n",
    "    print(row[0])\n",
    "\n",
    "# Close the database connection\n",
    "connection.close()\n"
   ]
  },
  {
   "cell_type": "code",
   "execution_count": 5,
   "id": "bb25a636-4d19-4f45-9929-9e78db0c5340",
   "metadata": {},
   "outputs": [
    {
     "name": "stdout",
     "output_type": "stream",
     "text": [
      "('The Weirdstone of Brisingamen', 'Alan Garner', 1960)\n",
      "('Small Gods', 'Terry Pratchett', 1992)\n",
      "('Perdido Street Station', 'China Miéville', 2000)\n",
      "('Thud!', 'Terry Pratchett', 2005)\n",
      "('The Spellman Files', 'Lisa Lutz', 2007)\n"
     ]
    }
   ],
   "source": [
    "import sqlite3\n",
    "\n",
    "# Connect to the SQLite database\n",
    "connection = sqlite3.connect('books.db')\n",
    "cursor = connection.cursor()\n",
    "\n",
    "# Select all columns from the 'books' table in order of publication\n",
    "cursor.execute(\"SELECT * FROM books ORDER BY year ASC\")\n",
    "\n",
    "# Fetch all rows of the result\n",
    "rows = cursor.fetchall()\n",
    "\n",
    "# Print the rows (all columns) in order of publication\n",
    "for row in rows:\n",
    "    print(row)\n",
    "\n",
    "# Close the database connection\n",
    "connection.close()\n"
   ]
  },
  {
   "cell_type": "code",
   "execution_count": null,
   "id": "580a089e-5304-49ea-8e06-d430da5c7fc7",
   "metadata": {},
   "outputs": [],
   "source": []
  }
 ],
 "metadata": {
  "kernelspec": {
   "display_name": "Python 3 (ipykernel)",
   "language": "python",
   "name": "python3"
  },
  "language_info": {
   "codemirror_mode": {
    "name": "ipython",
    "version": 3
   },
   "file_extension": ".py",
   "mimetype": "text/x-python",
   "name": "python",
   "nbconvert_exporter": "python",
   "pygments_lexer": "ipython3",
   "version": "3.11.4"
  }
 },
 "nbformat": 4,
 "nbformat_minor": 5
}
