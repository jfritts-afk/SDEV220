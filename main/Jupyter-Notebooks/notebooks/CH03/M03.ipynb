{
 "cells": [
  {
   "cell_type": "code",
   "execution_count": 7,
   "id": "393cc637-56fd-4ccf-9636-8213ba8ad69d",
   "metadata": {},
   "outputs": [
    {
     "name": "stdout",
     "output_type": "stream",
     "text": [
      "3600\n",
      "86400\n",
      "1440.0\n",
      "1440\n"
     ]
    }
   ],
   "source": [
    "import time\n",
    "import os\n",
    "\n",
    "# 3.1 How many seconds are in an hour?\n",
    "seconds_in_minute = 60\n",
    "minutes_in_hour = 60\n",
    "seconds_per_hour = seconds_in_minute * minutes_in_hour\n",
    "print(seconds_per_hour) \n",
    "\n",
    "# 3.2 Assign the result from the previous task (seconds in an hour) to a variable called seconds_per_hour.\n",
    "seconds_per_hour = seconds_in_minute * minutes_in_hour\n",
    "\n",
    "# 3.3 How many seconds are in a day?\n",
    "seconds_per_day = seconds_per_hour * 24\n",
    "print(seconds_per_day)\n",
    "\n",
    "# 3.4 Calculate seconds per day again, but this time save the result in a variable called seconds_per_day.\n",
    "seconds_per_day = seconds_per_hour * minutes_in_hour * 24\n",
    "\n",
    "# 3.5 Divide seconds_per_day by seconds_per_hour using floating-point (/) division.\n",
    "floating_point_result = seconds_per_day / seconds_per_hour\n",
    "print(floating_point_result)\n",
    "\n",
    "# 3.6 Divide seconds_per_day by seconds_per_hour using integer (//) division.\n",
    "integer_result = seconds_per_day // seconds_per_hour\n",
    "print(integer_result)\n"
   ]
  }
 ],
 "metadata": {
  "kernelspec": {
   "display_name": "Python 3 (ipykernel)",
   "language": "python",
   "name": "python3"
  },
  "language_info": {
   "codemirror_mode": {
    "name": "ipython",
    "version": 3
   },
   "file_extension": ".py",
   "mimetype": "text/x-python",
   "name": "python",
   "nbconvert_exporter": "python",
   "pygments_lexer": "ipython3",
   "version": "3.11.4"
  }
 },
 "nbformat": 4,
 "nbformat_minor": 5
}
